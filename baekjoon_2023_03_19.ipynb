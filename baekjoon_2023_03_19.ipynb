{
 "cells": [
  {
   "cell_type": "markdown",
   "id": "aa4773c2",
   "metadata": {},
   "source": [
    "# 백준  2023.03.19"
   ]
  },
  {
   "cell_type": "markdown",
   "id": "e58e07d7",
   "metadata": {},
   "source": [
    "### 10699 오늘날짜"
   ]
  },
  {
   "cell_type": "code",
   "execution_count": 11,
   "id": "59f0b2ab",
   "metadata": {},
   "outputs": [
    {
     "name": "stdout",
     "output_type": "stream",
     "text": [
      "2023-03-19\n"
     ]
    }
   ],
   "source": [
    "import datetime as dt\n",
    "time=dt.datetime.now()\n",
    "print(f\"{time.year}-0{time.month}-{time.day}\")"
   ]
  },
  {
   "cell_type": "code",
   "execution_count": 12,
   "id": "f7a0282a",
   "metadata": {
    "scrolled": false
   },
   "outputs": [
    {
     "name": "stdout",
     "output_type": "stream",
     "text": [
      "2023-03-19\n"
     ]
    }
   ],
   "source": [
    "from datetime import datetime\n",
    "today = str(datetime.today())\n",
    "print(today[:10])"
   ]
  },
  {
   "cell_type": "markdown",
   "id": "767fa679",
   "metadata": {},
   "source": [
    "### 7287 등록"
   ]
  },
  {
   "cell_type": "code",
   "execution_count": 13,
   "id": "72c163cc",
   "metadata": {},
   "outputs": [
    {
     "name": "stdout",
     "output_type": "stream",
     "text": [
      "2\n",
      "johnny_jannie\n"
     ]
    }
   ],
   "source": [
    "print(f\"2\")\n",
    "print(f\"johnny_jannie\")"
   ]
  },
  {
   "cell_type": "markdown",
   "id": "7afcfa77",
   "metadata": {},
   "source": [
    "### 10171 고양이"
   ]
  },
  {
   "cell_type": "code",
   "execution_count": 19,
   "id": "f5f8484d",
   "metadata": {},
   "outputs": [
    {
     "name": "stdout",
     "output_type": "stream",
     "text": [
      "\\    /\\\n",
      " )  ( ')\n",
      "(  /  )\n",
      " \\(__)|\n"
     ]
    }
   ],
   "source": [
    "print(f\"\\\\    /\\\\\")\n",
    "print(f\" )  ( ')\")\n",
    "print(f\"(  /  )\")\n",
    "print(f\" \\\\(__)|\")"
   ]
  },
  {
   "cell_type": "markdown",
   "id": "b04e5549",
   "metadata": {},
   "source": [
    "### 10172 개"
   ]
  },
  {
   "cell_type": "code",
   "execution_count": 32,
   "id": "dc8d48e3",
   "metadata": {},
   "outputs": [
    {
     "name": "stdout",
     "output_type": "stream",
     "text": [
      "|\\_/|\n",
      "|q p|   /}\n",
      "( 0 )\"\"\"\\\n",
      "|\"^\"`    |\n",
      "||_/=\\\\__|\n"
     ]
    }
   ],
   "source": [
    "print(f\"|\\\\_/|\")\n",
    "print(f\"|q p|   /}}\")\n",
    "print(f\"( 0 )\\\"\\\"\\\"\\\\\")\n",
    "print(f\"|\\\"^\\\"`    |\")\n",
    "print(f\"||_/=\\\\\\\\__|\")\n",
    "# 단독 \\ : \\\\\n",
    "# 단독 \" : \\\"\n",
    "# 단독 } : }}"
   ]
  },
  {
   "cell_type": "markdown",
   "id": "c4205a1f",
   "metadata": {},
   "source": [
    "### 25083 새싹"
   ]
  },
  {
   "cell_type": "code",
   "execution_count": 35,
   "id": "5fbf206a",
   "metadata": {},
   "outputs": [
    {
     "name": "stdout",
     "output_type": "stream",
     "text": [
      "         ,r'\"7\n",
      "r`-_   ,'  ,/\n",
      " \\. \". L_r'\n",
      "   `~\\/\n",
      "      |\n",
      "      |\n"
     ]
    }
   ],
   "source": [
    "print(f\"         ,r'\\\"7\")\n",
    "print(f\"r`-_   ,'  ,/\")\n",
    "print(f\" \\\\. \\\". L_r'\")\n",
    "print(f\"   `~\\\\/\")\n",
    "print(f\"      |\")\n",
    "print(f\"      |\")      "
   ]
  },
  {
   "cell_type": "markdown",
   "id": "a15ac05b",
   "metadata": {},
   "source": [
    "### 1000 A+B"
   ]
  },
  {
   "cell_type": "code",
   "execution_count": 45,
   "id": "8133e4a1",
   "metadata": {},
   "outputs": [
    {
     "name": "stdout",
     "output_type": "stream",
     "text": [
      "1\n",
      "2\n",
      "3\n"
     ]
    }
   ],
   "source": [
    "a=int(input())\n",
    "b=int(input())\n",
    "print(a+b)\n",
    "#이거 왜 안됨? 런타임에러 ValueError이 뜸"
   ]
  },
  {
   "cell_type": "code",
   "execution_count": 49,
   "id": "a5d44228",
   "metadata": {},
   "outputs": [
    {
     "name": "stdout",
     "output_type": "stream",
     "text": [
      "1 2\n",
      "3\n"
     ]
    }
   ],
   "source": [
    "a,b = map(int, input().split())\n",
    "print(a+b)"
   ]
  },
  {
   "cell_type": "markdown",
   "id": "7af91cfa",
   "metadata": {},
   "source": [
    "### 1001 A-B"
   ]
  },
  {
   "cell_type": "code",
   "execution_count": 50,
   "id": "6cdbe8e2",
   "metadata": {},
   "outputs": [
    {
     "name": "stdout",
     "output_type": "stream",
     "text": [
      "3 2\n",
      "1\n"
     ]
    }
   ],
   "source": [
    "a,b = map(int, input().split())\n",
    "print(a-b)"
   ]
  },
  {
   "cell_type": "markdown",
   "id": "c634e1a1",
   "metadata": {},
   "source": [
    "### 10998 A*B"
   ]
  },
  {
   "cell_type": "code",
   "execution_count": 51,
   "id": "9ab4ea2e",
   "metadata": {},
   "outputs": [
    {
     "name": "stdout",
     "output_type": "stream",
     "text": [
      "1  2\n",
      "2\n"
     ]
    }
   ],
   "source": [
    "a,b = map(int, input().split())\n",
    "print(a*b)"
   ]
  },
  {
   "cell_type": "markdown",
   "id": "0bd7f072",
   "metadata": {},
   "source": [
    "### 10869 사칙연산"
   ]
  },
  {
   "cell_type": "code",
   "execution_count": 54,
   "id": "498f3dd0",
   "metadata": {},
   "outputs": [
    {
     "name": "stdout",
     "output_type": "stream",
     "text": [
      "7 3\n",
      "10\n",
      "4\n",
      "21\n",
      "2\n",
      "1\n"
     ]
    }
   ],
   "source": [
    "a,b = map(int, input().split())\n",
    "print(a+b)\n",
    "print(a-b)\n",
    "print(a*b)\n",
    "print(int(a/b))\n",
    "print(a%b)"
   ]
  },
  {
   "cell_type": "markdown",
   "id": "97169a0d",
   "metadata": {},
   "source": [
    "### 1008 A/B"
   ]
  },
  {
   "cell_type": "code",
   "execution_count": 56,
   "id": "d2856507",
   "metadata": {},
   "outputs": [
    {
     "name": "stdout",
     "output_type": "stream",
     "text": [
      "1 3\n",
      "0.3333333333333333\n"
     ]
    }
   ],
   "source": [
    "a,b = map(int, input().split())\n",
    "print(a/b)"
   ]
  },
  {
   "cell_type": "markdown",
   "id": "1b753ed6",
   "metadata": {},
   "source": [
    "### 11382 꼬마정민"
   ]
  },
  {
   "cell_type": "code",
   "execution_count": 57,
   "id": "bcd1d457",
   "metadata": {},
   "outputs": [
    {
     "name": "stdout",
     "output_type": "stream",
     "text": [
      "77 77 7777\n",
      "7931\n"
     ]
    }
   ],
   "source": [
    "a,b,c = map(int,input().split())\n",
    "print(a+b+c)"
   ]
  },
  {
   "cell_type": "markdown",
   "id": "0e5cedd6",
   "metadata": {},
   "source": [
    "### 1330 두수 비교하기"
   ]
  },
  {
   "cell_type": "code",
   "execution_count": 59,
   "id": "9f821284",
   "metadata": {},
   "outputs": [
    {
     "name": "stdout",
     "output_type": "stream",
     "text": [
      "5 5\n",
      "==\n"
     ]
    }
   ],
   "source": [
    "a,b = map(int, input().split())\n",
    "if a > b :\n",
    "    print(\">\")\n",
    "elif a < b :\n",
    "    print(\"<\")\n",
    "else : \n",
    "    print(\"==\")"
   ]
  },
  {
   "cell_type": "markdown",
   "id": "e05b97c1",
   "metadata": {},
   "source": [
    "### 9498 시험 성적"
   ]
  },
  {
   "cell_type": "code",
   "execution_count": 61,
   "id": "771ee1e8",
   "metadata": {},
   "outputs": [
    {
     "name": "stdout",
     "output_type": "stream",
     "text": [
      "60\n",
      "D\n"
     ]
    }
   ],
   "source": [
    "a = int(input())\n",
    "if 90<=a<=100:\n",
    "    print(\"A\")\n",
    "elif 80<=a<=89:\n",
    "    print(\"B\")\n",
    "elif 70<=a<=79:\n",
    "    print(\"C\")\n",
    "elif 60<=a<=69:\n",
    "    print(\"D\")\n",
    "else:\n",
    "    print(\"F\")"
   ]
  },
  {
   "cell_type": "markdown",
   "id": "f11dac9d",
   "metadata": {},
   "source": [
    "### 14681 사분면 고르기"
   ]
  },
  {
   "cell_type": "code",
   "execution_count": 67,
   "id": "0c29ac0f",
   "metadata": {},
   "outputs": [
    {
     "name": "stdout",
     "output_type": "stream",
     "text": [
      "12\n",
      "-5\n",
      "4\n"
     ]
    }
   ],
   "source": [
    "a= int(input())\n",
    "b= int(input())\n",
    "if a>0 and b>0 :\n",
    "    print(\"1\")\n",
    "elif a<0 and b>0:\n",
    "    print(\"2\")\n",
    "elif a<0 and b<0:\n",
    "    print(\"3\")\n",
    "elif a>0 and b<0:\n",
    "    print(\"4\")\n",
    "else:\n",
    "    pass\n",
    "\n",
    "#a,b = map(int, input().split()) 이건 음수에는 못 쓰는 건가요? \n",
    "#runtime error (ValueError가 뜨던데) 왜 어쩔땐 되고 어쩔 땐 안됨?"
   ]
  },
  {
   "cell_type": "markdown",
   "id": "24b42cac",
   "metadata": {},
   "source": [
    "### 2753 윤년"
   ]
  },
  {
   "cell_type": "code",
   "execution_count": 73,
   "id": "a7881213",
   "metadata": {},
   "outputs": [
    {
     "name": "stdout",
     "output_type": "stream",
     "text": [
      "2000\n",
      "1\n"
     ]
    }
   ],
   "source": [
    "a = int(input())\n",
    "if (a%4==0 and a%100!=0) or a%400==0:\n",
    "    print(\"1\")\n",
    "else :\n",
    "    print(\"0\")"
   ]
  },
  {
   "cell_type": "markdown",
   "id": "ee7c2dfd",
   "metadata": {},
   "source": [
    "### 2420 사파리월드"
   ]
  },
  {
   "cell_type": "code",
   "execution_count": 80,
   "id": "34d18976",
   "metadata": {},
   "outputs": [
    {
     "name": "stdout",
     "output_type": "stream",
     "text": [
      "-2 5\n",
      "7\n"
     ]
    }
   ],
   "source": [
    "N, M = map(int, input().split())\n",
    "if N>M :\n",
    "    print(N-M)\n",
    "else : \n",
    "    print(M-N)"
   ]
  },
  {
   "cell_type": "code",
   "execution_count": null,
   "id": "d8c27f40",
   "metadata": {},
   "outputs": [],
   "source": []
  }
 ],
 "metadata": {
  "kernelspec": {
   "display_name": "Python 3 (ipykernel)",
   "language": "python",
   "name": "python3"
  },
  "language_info": {
   "codemirror_mode": {
    "name": "ipython",
    "version": 3
   },
   "file_extension": ".py",
   "mimetype": "text/x-python",
   "name": "python",
   "nbconvert_exporter": "python",
   "pygments_lexer": "ipython3",
   "version": "3.9.13"
  }
 },
 "nbformat": 4,
 "nbformat_minor": 5
}
